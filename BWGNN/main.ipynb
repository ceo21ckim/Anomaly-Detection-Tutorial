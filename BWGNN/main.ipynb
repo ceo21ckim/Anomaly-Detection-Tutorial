{
 "cells": [
  {
   "cell_type": "code",
   "execution_count": 1,
   "id": "e9c9c687-a1c6-41a8-859d-47fd8817b5a5",
   "metadata": {
    "tags": []
   },
   "outputs": [],
   "source": [
    "import argparse\n",
    "\n",
    "from utils import * \n",
    "from data_utils import * \n",
    "from models import * \n",
    "\n",
    "from torch import optim "
   ]
  },
  {
   "cell_type": "code",
   "execution_count": 2,
   "id": "ee4d5440-798c-46a3-8f94-b51b25ea4767",
   "metadata": {
    "tags": []
   },
   "outputs": [],
   "source": [
    "class args:\n",
    "    d_name = 'yelp'\n",
    "    num_epochs = 200 \n",
    "    homo = True\n",
    "    train_ratio = 0.4\n",
    "    order =2 \n",
    "    num_classes = 2\n",
    "    lr = 1e-2\n",
    "    h_feats = 64 "
   ]
  },
  {
   "cell_type": "code",
   "execution_count": null,
   "id": "77b3fdfd-1f73-4b9b-91f8-854a0121752e",
   "metadata": {
    "tags": []
   },
   "outputs": [
    {
     "name": "stdout",
     "output_type": "stream",
     "text": [
      "Done loading data from cached files.\n",
      "Graph(num_nodes=45954, num_edges=8097302,\n",
      "      ndata_schemes={'feature': Scheme(shape=(32,), dtype=torch.float32), 'label': Scheme(shape=(), dtype=torch.int64), 'train_mask': Scheme(shape=(), dtype=torch.uint8), 'val_mask': Scheme(shape=(), dtype=torch.uint8), 'test_mask': Scheme(shape=(), dtype=torch.uint8), '_ID': Scheme(shape=(), dtype=torch.int64), '_TYPE': Scheme(shape=(), dtype=torch.int64)}\n",
      "      edata_schemes={'_ID': Scheme(shape=(), dtype=torch.int64), '_TYPE': Scheme(shape=(), dtype=torch.int64)})\n",
      "cross entropy weight: 5.8816922500935975\n"
     ]
    },
    {
     "name": "stderr",
     "output_type": "stream",
     "text": [
      "/home/dongeon/.local/lib/python3.8/site-packages/sklearn/metrics/_classification.py:1344: UndefinedMetricWarning: Precision is ill-defined and being set to 0.0 due to no predicted samples. Use `zero_division` parameter to control this behavior.\n",
      "  _warn_prf(average, modifier, msg_start, len(result))\n"
     ]
    },
    {
     "name": "stdout",
     "output_type": "stream",
     "text": [
      "Epoch: [5/200], loss: 0.6843, val_mf1: 0.5308\n",
      "Epoch: [10/200], loss: 0.6109, val_mf1: 0.6211\n",
      "Epoch: [15/200], loss: 0.5869, val_mf1: 0.6384\n",
      "Epoch: [20/200], loss: 0.5836, val_mf1: 0.6450\n",
      "Epoch: [25/200], loss: 0.5698, val_mf1: 0.6551\n",
      "Epoch: [30/200], loss: 0.5652, val_mf1: 0.6630\n",
      "Epoch: [35/200], loss: 0.5551, val_mf1: 0.6646\n",
      "Epoch: [40/200], loss: 0.5464, val_mf1: 0.6689\n",
      "Epoch: [45/200], loss: 0.5389, val_mf1: 0.6765\n",
      "Epoch: [50/200], loss: 0.5290, val_mf1: 0.6855\n",
      "Epoch: [55/200], loss: 0.5193, val_mf1: 0.6890\n"
     ]
    }
   ],
   "source": [
    "graph = Dataset(args.d_name, args.homo).graph\n",
    "args.in_feats = graph.ndata['feature'].shape[1] # hyperspectral channels\n",
    "model = BWGNN(args.in_feats, args.h_feats, args.num_classes, graph, d=args.order)\n",
    "optimizer = optim.Adam(model.parameters(), lr=args.lr)\n",
    "\n",
    "final_tmf1, final_tauc = train(args, model, graph, optimizer)"
   ]
  },
  {
   "cell_type": "code",
   "execution_count": null,
   "id": "e393a0fe-7d41-46d8-bd70-51f3d58824db",
   "metadata": {},
   "outputs": [],
   "source": []
  }
 ],
 "metadata": {
  "kernelspec": {
   "display_name": "Python 3 (ipykernel)",
   "language": "python",
   "name": "python3"
  },
  "language_info": {
   "codemirror_mode": {
    "name": "ipython",
    "version": 3
   },
   "file_extension": ".py",
   "mimetype": "text/x-python",
   "name": "python",
   "nbconvert_exporter": "python",
   "pygments_lexer": "ipython3",
   "version": "3.8.10"
  }
 },
 "nbformat": 4,
 "nbformat_minor": 5
}
